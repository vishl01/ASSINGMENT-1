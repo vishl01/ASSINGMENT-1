{
 "cells": [
  {
   "cell_type": "markdown",
   "id": "1e807e73-3b3a-438e-8bc7-5603b4f21254",
   "metadata": {},
   "source": [
    "ASSIGNMENT-1\n",
    "\n",
    "TOPIC: Python Basics Variable."
   ]
  },
  {
   "cell_type": "markdown",
   "id": "ec8da22f-c755-4022-b783-048a81bdaa3a",
   "metadata": {},
   "source": [
    "Q-1.Declare two variables, x and y, and assign them integer values. Swap the values of these variables without using any temporary variable."
   ]
  },
  {
   "cell_type": "code",
   "execution_count": null,
   "id": "0f11113e-cd07-4978-87b7-932b174e886f",
   "metadata": {},
   "outputs": [
    {
     "name": "stdout",
     "output_type": "stream",
     "text": [
      "Before swap x: 5 and y: 10\n",
      "After swap x: 10 and y: 5\n"
     ]
    }
   ],
   "source": [
    "# Step 1:Declare variables.\n",
    "x = 5\n",
    "y = 10\n",
    "# Step 2:Function to swap the variables.\n",
    "def swap_variables(x,y):\n",
    "  print(f\"Before swap x: {x} and y: {y}\")\n",
    "  x,y = y, x\n",
    "  print(f\"After swap x: {x} and y: {y}\")\n",
    "\n",
    "swap_variables(x,y)"
   ]
  },
  {
   "cell_type": "markdown",
   "id": "dc6373db-a352-462d-a586-50951b73faa3",
   "metadata": {},
   "source": [
    "Q-2.Create a program that calculates the area of a rectangle. Take the length and width as inputs from the user and store them in variables. Calculate and display the area.Create a program that calculates the area of a rectangle. Take the length and width as inputs from the user and store them in variables. Calculate and display the area."
   ]
  },
  {
   "cell_type": "code",
   "execution_count": null,
   "id": "b8435a44-4c64-4e7e-bf21-10aea734b3b8",
   "metadata": {},
   "outputs": [
    {
     "name": "stdin",
     "output_type": "stream",
     "text": [
      "Enter the length of the rectangle:  7.9\n",
      "Enter the width of the rectangle:  8\n"
     ]
    },
    {
     "name": "stdout",
     "output_type": "stream",
     "text": [
      "The area of the rectangle is: 63.2\n"
     ]
    }
   ],
   "source": [
    "# Step 1: Get input from the user for length and width\n",
    "length = float(input(\"Enter the length of the rectangle: \")) \n",
    "width = float(input(\"Enter the width of the rectangle: \"))\n",
    "\n",
    "# Step 2: Calculate the area of the rectangle: area = length * width\n",
    "area = length * width # Calculating the area OF rectangle\n",
    "\n",
    "# Step 3: Display the calculated area to the user\n",
    "print(\"The area of the rectangle is:\", area) # Print the area"
   ]
  },
  {
   "cell_type": "markdown",
   "id": "edecfc7a-4083-4d71-96d9-d6bb658327b8",
   "metadata": {
    "tags": []
   },
   "source": [
    "Q-3.Write a Python program that converts temperatures from Celsius to Fahrenheit. Take the temperature in Celsius as input, store it in a variable, convert it to Fahrenheit, and display the result."
   ]
  },
  {
   "cell_type": "code",
   "execution_count": 12,
   "id": "784dcb59-0ae9-463d-a6cd-09f558bfc1f5",
   "metadata": {},
   "outputs": [
    {
     "name": "stdin",
     "output_type": "stream",
     "text": [
      "Enter temperature in Celsius:  89\n"
     ]
    },
    {
     "name": "stdout",
     "output_type": "stream",
     "text": [
      "89.0 Celsius is equal to 192.20 Fahrenheit\n"
     ]
    }
   ],
   "source": [
    "# Step 1: Get the Celsius from the user\n",
    "celsius_temperature = float(input(\"Enter temperature in Celsius: \"))\n",
    "\n",
    "# Step 2: Convert Celsius to Fahrenheit: (C * 9/5) + 32\n",
    "fahrenheit_temperature = (celsius_temperature * 9/5) + 32\n",
    "\n",
    "# Step 3: Display the Fahrenheit:\n",
    "print(f\"{celsius_temperature} Celsius is equal to {fahrenheit_temperature:.2f} Fahrenheit\")"
   ]
  },
  {
   "cell_type": "markdown",
   "id": "f71c7f20-751b-47d2-9a3e-d8f1d2a8fe27",
   "metadata": {},
   "source": []
  },
  {
   "cell_type": "markdown",
   "id": "2630c7e7-d498-45bb-9e2f-6401cd3b7b02",
   "metadata": {},
   "source": [
    "TOPIC: String Based Questions"
   ]
  },
  {
   "cell_type": "markdown",
   "id": "354a47dd-2d92-4165-8231-6e127948836b",
   "metadata": {},
   "source": [
    "Q-1.Write a Python program that takes a string as input and prints the length of the string"
   ]
  },
  {
   "cell_type": "code",
   "execution_count": 14,
   "id": "ce7da04c-e338-419f-addd-574bfc35a225",
   "metadata": {},
   "outputs": [
    {
     "name": "stdin",
     "output_type": "stream",
     "text": [
      "Enter a string:  MY NAME IS VISHAL SHUKLA\n"
     ]
    },
    {
     "name": "stdout",
     "output_type": "stream",
     "text": [
      "The length of the input string is: 24\n"
     ]
    }
   ],
   "source": [
    "# Step 1:Input from the user\n",
    "input_string = input(\"Enter a string: \")\n",
    "\n",
    "# Step 2: Calculate the length of the input string\n",
    "string_length = len(input_string)\n",
    "\n",
    "# Step 3: Print the length of the string\n",
    "print(\"The length of the input string is:\", string_length)"
   ]
  },
  {
   "cell_type": "markdown",
   "id": "ffc200fb-348b-4d24-bd3c-bb86e7b882aa",
   "metadata": {},
   "source": [
    "Q-2.Create a program that takes a sentence from the user and counts the number of vowels (a, e, i, o, u) in the string."
   ]
  },
  {
   "cell_type": "code",
   "execution_count": 15,
   "id": "82bae327-f6ca-488f-ac8c-c25440015d53",
   "metadata": {},
   "outputs": [
    {
     "name": "stdin",
     "output_type": "stream",
     "text": [
      "Enter a sentence->  GREAT TO GET A DATA SCIENCE COURSE FROM PW SKILLS\n"
     ]
    },
    {
     "name": "stdout",
     "output_type": "stream",
     "text": [
      "Number of vowels: 15\n"
     ]
    }
   ],
   "source": [
    "# Step 1: Get input from the user\n",
    "sentence = input(\"Enter a sentence-> \")\n",
    "\n",
    "# Step 2: Initialize a variable to count the vowels\n",
    "vowel_count = 0\n",
    "\n",
    "# Step 3: Iterate through each character in the sentence\n",
    "for char in sentence:\n",
    "    # Step 4: Convert the character to lowercase to handle both uppercase and lowercase vowels\n",
    "    char_lower = char.lower()\n",
    "\n",
    "    # Step 5: Check if the character is a vowel (a, e, i, o, u)\n",
    "    if char_lower in \"aeiou\":\n",
    "        # Step 6: If the character is a vowel, increment the vowel_count variable\n",
    "        vowel_count += 1\n",
    "\n",
    "# Step 7: Display the result\n",
    "print(\"Number of vowels:\", vowel_count)"
   ]
  },
  {
   "cell_type": "markdown",
   "id": "b5512c46-8e2b-47af-bce1-d12ddc2aa43c",
   "metadata": {},
   "source": [
    "Q-3.Given a string, reverse the order of characters using string slicing and print the reversed string."
   ]
  },
  {
   "cell_type": "code",
   "execution_count": 16,
   "id": "0fed9dd2-58ed-43f4-9111-5e517b4ac56b",
   "metadata": {},
   "outputs": [
    {
     "name": "stdin",
     "output_type": "stream",
     "text": [
      "Enter a string:  GOOD COURSE FROM PW SKILLS\n"
     ]
    },
    {
     "name": "stdout",
     "output_type": "stream",
     "text": [
      "Reversed string: SLLIKS WP MORF ESRUOC DOOG\n"
     ]
    }
   ],
   "source": [
    "# Step 1: Input string from the user\n",
    "input_string = input(\"Enter a string: \")\n",
    "\n",
    "# Step 2: Use string slicing to reverse the string\n",
    "reversed_string = input_string[::-1]\n",
    "\n",
    "# Step 3: Print the reversed string\n",
    "print(\"Reversed string:\", reversed_string)"
   ]
  },
  {
   "cell_type": "markdown",
   "id": "569e462f-8b1d-45c7-bb29-ef9ae05c00e0",
   "metadata": {},
   "source": [
    "Q-4.Write a program that takes a string as input and checks if it is a palindrome (reads the same forwards and backwards)."
   ]
  },
  {
   "cell_type": "code",
   "execution_count": 19,
   "id": "b7ccff2d-6dfa-4389-ab3f-702e8fa4b977",
   "metadata": {},
   "outputs": [
    {
     "name": "stdin",
     "output_type": "stream",
     "text": [
      "Enter a string:  SKS\n"
     ]
    },
    {
     "name": "stdout",
     "output_type": "stream",
     "text": [
      "The input string is a palindrome.\n"
     ]
    }
   ],
   "source": [
    "# Step 1:Input from the user\n",
    "input_string = input(\"Enter a string: \")\n",
    "\n",
    "# Step 2: Remove spaces and convert the input string to lowercase\n",
    "cleaned_string = input_string.replace(\" \", \"\").lower()\n",
    "\n",
    "# Step 3: Reverse the string using slicing\n",
    "reversed_string = cleaned_string[::-1]\n",
    "\n",
    "if cleaned_string == reversed_string:\n",
    "    print(\"The input string is a palindrome.\")\n",
    "else:\n",
    "    print(\"The input string is not a palindrome.\")"
   ]
  },
  {
   "cell_type": "markdown",
   "id": "5131205b-b8c4-4f3a-9f73-7e6ff8dd1889",
   "metadata": {},
   "source": [
    "Q-5. Create a program that takes a string as input and removes all the spaces from it. Print the modified string without spaces."
   ]
  },
  {
   "cell_type": "code",
   "execution_count": 20,
   "id": "148ef355-f461-4c08-be89-803e15429944",
   "metadata": {},
   "outputs": [
    {
     "name": "stdin",
     "output_type": "stream",
     "text": [
      "Enter a string:  PYTHON IS BEST PROGRAMMING LANGUAGE FOR DATA SCIENCE\n"
     ]
    },
    {
     "name": "stdout",
     "output_type": "stream",
     "text": [
      "Modified string without spaces: PYTHONISBESTPROGRAMMINGLANGUAGEFORDATASCIENCE\n"
     ]
    }
   ],
   "source": [
    "# Step 1: Take input from the user\n",
    "input_string = input(\"Enter a string: \")\n",
    "\n",
    "# Step 2: Initialize an empty string to store the modified string without spaces\n",
    "modified_string = \"\"\n",
    "\n",
    "# Step 3: Iterate through each character in the input string\n",
    "for char in input_string:\n",
    "    # Step 4: Check if the character is not a space\n",
    "    if char != \" \":\n",
    "        # Step 5: If not a space, append the character to the modified string\n",
    "        modified_string += char\n",
    "\n",
    "# Step 6: Print the modified string without spaces\n",
    "print(\"Modified string without spaces:\", modified_string)"
   ]
  },
  {
   "cell_type": "code",
   "execution_count": null,
   "id": "8d3a0d1f-c180-430f-a9a0-6ddb1fb68963",
   "metadata": {},
   "outputs": [],
   "source": []
  }
 ],
 "metadata": {
  "kernelspec": {
   "display_name": "Python 3 (ipykernel)",
   "language": "python",
   "name": "python3"
  },
  "language_info": {
   "codemirror_mode": {
    "name": "ipython",
    "version": 3
   },
   "file_extension": ".py",
   "mimetype": "text/x-python",
   "name": "python",
   "nbconvert_exporter": "python",
   "pygments_lexer": "ipython3",
   "version": "3.10.8"
  }
 },
 "nbformat": 4,
 "nbformat_minor": 5
}
